{
 "cells": [
  {
   "cell_type": "code",
   "execution_count": null,
   "metadata": {},
   "outputs": [],
   "source": [
    "import pandas as pd\n",
    "import os\n",
    "\n",
    "os.chdir(\"../\")\n",
    "path = %pwd\n",
    "path = os.path.join(path, \"artifacts/models/\")\n",
    "path"
   ]
  },
  {
   "cell_type": "code",
   "execution_count": null,
   "metadata": {},
   "outputs": [],
   "source": [
    "import os\n",
    "model_name = \"\"\n",
    "folders = os.listdir(path)\n",
    "folders\n",
    "for folder in folders:\n",
    "    if (folder.endswith('0')):\n",
    "        file = [f for f in os.listdir(path+\"/\"+folder)]\n",
    "        model_name=file[0].split('.')[0]\n",
    "        print(model_name)\n",
    "\n"
   ]
  },
  {
   "cell_type": "code",
   "execution_count": null,
   "metadata": {},
   "outputs": [],
   "source": [
    "import pickle\n",
    "file_name = 'RandomForest0' \n",
    "# with open(path + file_name + '/' + file_name + '.sav', 'rb') as f:\n",
    "#     model = dill.load(f)\n",
    "    \n",
    "with open('artifacts/models/RandomForest0/RandomForest0.sav', \"rb\") as f:\n",
    "    model = pickle.load(f)\n",
    "\n",
    "print(model)"
   ]
  },
  {
   "cell_type": "code",
   "execution_count": null,
   "metadata": {},
   "outputs": [],
   "source": []
  }
 ],
 "metadata": {
  "kernelspec": {
   "display_name": "Python 3",
   "language": "python",
   "name": "python3"
  },
  "language_info": {
   "codemirror_mode": {
    "name": "ipython",
    "version": 3
   },
   "file_extension": ".py",
   "mimetype": "text/x-python",
   "name": "python",
   "nbconvert_exporter": "python",
   "pygments_lexer": "ipython3",
   "version": "3.12.0"
  }
 },
 "nbformat": 4,
 "nbformat_minor": 2
}
